{
 "cells": [
  {
   "cell_type": "code",
   "execution_count": null,
   "metadata": {},
   "outputs": [],
   "source": [
    "!pip install tensorflow opencv-python mediapipe scikit-learn matplotlib "
   ]
  },
  {
   "cell_type": "code",
   "execution_count": 6,
   "metadata": {},
   "outputs": [],
   "source": [
    "import shutil\n",
    "import cv2\n",
    "import os\n",
    "import mediapipe as mp\n",
    "import numpy as np\n",
    "import keyboard"
   ]
  },
  {
   "cell_type": "code",
   "execution_count": 3,
   "metadata": {},
   "outputs": [],
   "source": [
    "\n",
    "# Path for exported data, numpy arrays\n",
    "DATA_PATH = os.path.join('MP_Data') \n",
    "IMAGE_PATH = os.path.join('IMG_DATA')\n",
    "\n",
    "words = []\n",
    "with open('Sample.txt', 'r') as file:\n",
    "    # Read each line and store it in the list\n",
    "    for line in file:\n",
    "        words.append(line.strip())  # Remove leading and trailing whitespaces if needed\n",
    "\n",
    "actions = np.array(words)   #words list\n",
    "sequence_count = 30     #50 trials\n",
    "sequence_length = 30    #30 frames / trial \n",
    "\n",
    "\n",
    "mp_pose = mp.solutions.holistic\n",
    "mp_drawing = mp.solutions.drawing_utils #drawing helpers\n",
    "mp_holistic = mp.solutions.holistic     #holistic model\n"
   ]
  },
  {
   "cell_type": "code",
   "execution_count": 4,
   "metadata": {},
   "outputs": [],
   "source": [
    "def folder_init():\n",
    "#Create 30 folders per action\n",
    "    for action in actions: \n",
    "        for sequence in range(sequence_count):\n",
    "            try: \n",
    "                os.makedirs(os.path.join(DATA_PATH, action, str(sequence)))\n",
    "                os.makedirs(os.path.join(IMAGE_PATH, action, str(sequence)))\n",
    "            except:\n",
    "                pass\n",
    "\n",
    "def folder_delete():\n",
    "    try:\n",
    "        # Delete the entire directory tree\n",
    "        shutil.rmtree(DATA_PATH)\n",
    "        shutil.rmtree(IMAGE_PATH)\n",
    "        print(f\"Folder '{DATA_PATH}, {IMAGE_PATH}' and its subfolders deleted successfully.\")\n",
    "    except FileNotFoundError:\n",
    "        pass\n"
   ]
  },
  {
   "cell_type": "code",
   "execution_count": 5,
   "metadata": {},
   "outputs": [],
   "source": [
    "\n",
    "#recolors image and make detections\n",
    "def recolor(image, model):\n",
    "    image = cv2.cvtColor(image, cv2.COLOR_BGR2RGB) # COLOR CONVERSION BGR 2 RGB\n",
    "    image.flags.writeable = False                  # Image is no longer writeable\n",
    "    results = model.process(image)                 # Make prediction\n",
    "    image.flags.writeable = True                   # Image is now writeable \n",
    "    image = cv2.cvtColor(image, cv2.COLOR_RGB2BGR) # COLOR COVERSION RGB 2 BGR\n",
    "    return image, results\n",
    "\n",
    "\n",
    "def draw_landmarks(image, results):\n",
    "    mp_drawing.draw_landmarks(image, results.left_hand_landmarks, mp_holistic.HAND_CONNECTIONS, mp_drawing.DrawingSpec(color=(80,110,10), thickness=1, circle_radius=1))\n",
    "    mp_drawing.draw_landmarks(image, results.right_hand_landmarks, mp_holistic.HAND_CONNECTIONS, mp_drawing.DrawingSpec(color=(80,110,10), thickness=1, circle_radius=1))\n",
    "    mp_drawing.draw_landmarks(image, results.pose_landmarks, mp_pose.POSE_CONNECTIONS, mp_drawing.DrawingSpec(color=(245,117,66),thickness=2, circle_radius=2))  #change display\n",
    "\n",
    "    \n",
    "def extract_keypoints(results): #convert landmakrs to nparray\n",
    "    pose = np.array([[res.x, res.y, res.z, res.visibility] for res in results.pose_landmarks.landmark]).flatten() if results.pose_landmarks else np.zeros(33*4)\n",
    "    lh = np.array([[res.x, res.y, res.z] for res in results.left_hand_landmarks.landmark]).flatten() if results.left_hand_landmarks else np.zeros(21*3)\n",
    "    rh = np.array([[res.x, res.y, res.z] for res in results.right_hand_landmarks.landmark]).flatten() if results.right_hand_landmarks else np.zeros(21*3)\n",
    "    return np.concatenate([pose, lh, rh])"
   ]
  },
  {
   "cell_type": "code",
   "execution_count": 9,
   "metadata": {},
   "outputs": [],
   "source": [
    "folder_init()"
   ]
  },
  {
   "cell_type": "code",
   "execution_count": 10,
   "metadata": {},
   "outputs": [
    {
     "name": "stderr",
     "output_type": "stream",
     "text": [
      "[ WARN:0@463.536] global cap_v4l.cpp:997 open VIDEOIO(V4L2:/dev/video1): can't open camera by index\n",
      "[ERROR:0@463.656] global obsensor_uvc_stream_channel.cpp:159 getStreamChannelGroup Camera index out of range\n",
      "I0000 00:00:1706126594.311848  488791 gl_context_egl.cc:85] Successfully initialized EGL. Major : 1 Minor: 5\n",
      "I0000 00:00:1706126594.316007  493667 gl_context.cc:344] GL version: 3.2 (OpenGL ES 3.2 Mesa 23.2.1-1), renderer: llvmpipe (LLVM 16.0.6, 256 bits)\n"
     ]
    },
    {
     "ename": "error",
     "evalue": "OpenCV(4.9.0) /io/opencv/modules/imgproc/src/color.cpp:196: error: (-215:Assertion failed) !_src.empty() in function 'cvtColor'\n",
     "output_type": "error",
     "traceback": [
      "\u001b[0;31m---------------------------------------------------------------------------\u001b[0m",
      "\u001b[0;31merror\u001b[0m                                     Traceback (most recent call last)",
      "\u001b[1;32m/home/para/ASL/ASL_Traning.ipynb Cell 7\u001b[0m line \u001b[0;36m1\n\u001b[1;32m     <a href='vscode-notebook-cell:/home/para/ASL/ASL_Traning.ipynb#W5sZmlsZQ%3D%3D?line=13'>14</a>\u001b[0m ret, frame \u001b[39m=\u001b[39m cap\u001b[39m.\u001b[39mread()\n\u001b[1;32m     <a href='vscode-notebook-cell:/home/para/ASL/ASL_Traning.ipynb#W5sZmlsZQ%3D%3D?line=15'>16</a>\u001b[0m \u001b[39m# make detections\u001b[39;00m\n\u001b[0;32m---> <a href='vscode-notebook-cell:/home/para/ASL/ASL_Traning.ipynb#W5sZmlsZQ%3D%3D?line=16'>17</a>\u001b[0m image, results \u001b[39m=\u001b[39m recolor(frame, holistic)\n\u001b[1;32m     <a href='vscode-notebook-cell:/home/para/ASL/ASL_Traning.ipynb#W5sZmlsZQ%3D%3D?line=18'>19</a>\u001b[0m \u001b[39m# draw landmarks\u001b[39;00m\n\u001b[1;32m     <a href='vscode-notebook-cell:/home/para/ASL/ASL_Traning.ipynb#W5sZmlsZQ%3D%3D?line=19'>20</a>\u001b[0m draw_landmarks(image, results)\n",
      "\u001b[1;32m/home/para/ASL/ASL_Traning.ipynb Cell 7\u001b[0m line \u001b[0;36m3\n\u001b[1;32m      <a href='vscode-notebook-cell:/home/para/ASL/ASL_Traning.ipynb#W5sZmlsZQ%3D%3D?line=1'>2</a>\u001b[0m \u001b[39mdef\u001b[39;00m \u001b[39mrecolor\u001b[39m(image, model):\n\u001b[0;32m----> <a href='vscode-notebook-cell:/home/para/ASL/ASL_Traning.ipynb#W5sZmlsZQ%3D%3D?line=2'>3</a>\u001b[0m     image \u001b[39m=\u001b[39m cv2\u001b[39m.\u001b[39;49mcvtColor(image, cv2\u001b[39m.\u001b[39;49mCOLOR_BGR2RGB) \u001b[39m# COLOR CONVERSION BGR 2 RGB\u001b[39;00m\n\u001b[1;32m      <a href='vscode-notebook-cell:/home/para/ASL/ASL_Traning.ipynb#W5sZmlsZQ%3D%3D?line=3'>4</a>\u001b[0m     image\u001b[39m.\u001b[39mflags\u001b[39m.\u001b[39mwriteable \u001b[39m=\u001b[39m \u001b[39mFalse\u001b[39;00m                  \u001b[39m# Image is no longer writeable\u001b[39;00m\n\u001b[1;32m      <a href='vscode-notebook-cell:/home/para/ASL/ASL_Traning.ipynb#W5sZmlsZQ%3D%3D?line=4'>5</a>\u001b[0m     results \u001b[39m=\u001b[39m model\u001b[39m.\u001b[39mprocess(image)                 \u001b[39m# Make prediction\u001b[39;00m\n",
      "\u001b[0;31merror\u001b[0m: OpenCV(4.9.0) /io/opencv/modules/imgproc/src/color.cpp:196: error: (-215:Assertion failed) !_src.empty() in function 'cvtColor'\n"
     ]
    }
   ],
   "source": [
    "# start webcam capture\n",
    "cap = cv2.VideoCapture(1)\n",
    "frame_rate = cap.get(cv2.CAP_PROP_FPS)\n",
    "\n",
    "# initiate holistic model\n",
    "with mp_holistic.Holistic(min_detection_confidence=0.5, min_tracking_confidence=0.5) as holistic:\n",
    "\n",
    "    # loop through actions\n",
    "    for action in actions:\n",
    "        for sequence in range(sequence_count):\n",
    "            for frame_num in range(sequence_length):\n",
    "\n",
    "                # read feed\n",
    "                ret, frame = cap.read()\n",
    "\n",
    "                # make detections\n",
    "                image, results = recolor(frame, holistic)\n",
    "\n",
    "                # draw landmarks\n",
    "                draw_landmarks(image, results)\n",
    "                \n",
    "                # new Apply wait logic\n",
    "                if frame_num == 0: \n",
    "                    cv2.putText(image, 'STARTING COLLECTION', (120,200), \n",
    "                            cv2.FONT_HERSHEY_SIMPLEX, 1, (0,255, 0), 4, cv2.LINE_AA)\n",
    "                    cv2.putText(image, 'Collecting frames for {} Video Number {}'.format(action, sequence), (15,12), \n",
    "                            cv2.FONT_HERSHEY_SIMPLEX, 0.5, (0, 0, 255), 1, cv2.LINE_AA)\n",
    "                    # show to screen\n",
    "                    cv2.imshow('OpenCV Feed', image)\n",
    "                    cv2.waitKey(2000)\n",
    "                else: \n",
    "                    cv2.putText(image, 'Collecting frames for {} Video Number {}'.format(action, sequence), (15,12), \n",
    "                            cv2.FONT_HERSHEY_SIMPLEX, 0.5, (0, 0, 255), 1, cv2.LINE_AA)\n",
    "                    # show to screen\n",
    "                    cv2.imshow('OpenCV Feed', image)\n",
    "                \n",
    "                # new Export keypoints\n",
    "                keypoints = extract_keypoints(results)\n",
    "                npy_path = os.path.join(DATA_PATH, action, str(sequence), str(frame_num))\n",
    "                np.save(npy_path, keypoints)\n",
    "\n",
    "                # save frames as images\n",
    "                img_path = os.path.join(IMAGE_PATH, action, str(sequence), f\"frame{frame_num}.jpg\")\n",
    "                cv2.imwrite(img_path, image)\n",
    "\n",
    "\n",
    "        # break if q\n",
    "        if cv2.waitKey(10) & 0xFF == ord('q'):\n",
    "            break\n",
    "                        \n",
    "cap.release()\n",
    "cv2.destroyAllWindows()\n"
   ]
  }
 ],
 "metadata": {
  "kernelspec": {
   "display_name": "Python 3",
   "language": "python",
   "name": "python3"
  },
  "language_info": {
   "codemirror_mode": {
    "name": "ipython",
    "version": 3
   },
   "file_extension": ".py",
   "mimetype": "text/x-python",
   "name": "python",
   "nbconvert_exporter": "python",
   "pygments_lexer": "ipython3",
   "version": "3.11.7"
  }
 },
 "nbformat": 4,
 "nbformat_minor": 2
}
